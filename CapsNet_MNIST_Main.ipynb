{
  "nbformat": 4,
  "nbformat_minor": 0,
  "metadata": {
    "colab": {
      "name": "CapsNet_MNIST_Main.ipynb",
      "provenance": []
    },
    "kernelspec": {
      "name": "python3",
      "display_name": "Python 3"
    },
    "language_info": {
      "name": "python"
    },
    "accelerator": "GPU"
  },
  "cells": [
    {
      "cell_type": "code",
      "execution_count": 2,
      "metadata": {
        "id": "7MbZpj8KWL3F"
      },
      "outputs": [],
      "source": [
        "from numpy.random import seed\n",
        "seed(1)\n",
        "import tensorflow\n",
        "tensorflow.random.set_seed(2)"
      ]
    },
    {
      "cell_type": "code",
      "source": [
        "from tensorflow.keras import layers, models, optimizers\n",
        "from tensorflow.keras.layers import Input, Conv2D, Dense\n",
        "from tensorflow.keras.layers import Reshape, Layer, Lambda\n",
        "from tensorflow.keras.models import Model\n",
        "from tensorflow.keras.utils import to_categorical\n",
        "from tensorflow.keras import initializers\n",
        "from tensorflow.keras.optimizers import Adam\n",
        "from tensorflow.keras.datasets import mnist\n",
        "from tensorflow.keras import backend as K\n",
        "import numpy as np\n",
        "import tensorflow as tf\n",
        "import cv2\n",
        "import os\n",
        "from tqdm import tqdm\n",
        "import pandas as pd\n",
        "from sklearn.model_selection import train_test_split\n",
        "from tensorflow.keras.preprocessing.image import img_to_array\n",
        "import matplotlib.pylab as plt\n",
        "import cv2   \n",
        "import os\n",
        "from google.colab.patches import cv2_imshow # for image display\n",
        "import pandas as pd"
      ],
      "metadata": {
        "id": "WKejs-B0WWBR"
      },
      "execution_count": 3,
      "outputs": []
    },
    {
      "cell_type": "code",
      "source": [
        "input_shape = [28, 28, 1]\n",
        "dimA, dimB, n_channel = input_shape\n",
        "tot_n_pixels = dimA * dimB * n_channel\n",
        "\n",
        "(x_train, y_train), (x_test, y_test) = mnist.load_data()\n",
        "\n",
        "x_train = x_train.reshape(-1, dimA, dimB, 1).astype('float32') / 255.0 # normalize the training set\n",
        "x_test = x_test.reshape(-1, dimA, dimB, 1).astype('float32') / 255.0 # normalize the test set\n",
        "\n",
        "y_train = to_categorical(y_train.astype('float32'))\n",
        "y_test = to_categorical(y_test.astype('float32'))\n",
        "\n",
        "X = x_train\n",
        "Y = y_train"
      ],
      "metadata": {
        "colab": {
          "base_uri": "https://localhost:8080/"
        },
        "id": "zeQvzSVtWmtE",
        "outputId": "e9b775ad-e5e7-4d90-ed79-72d57812d7eb"
      },
      "execution_count": 4,
      "outputs": [
        {
          "output_type": "stream",
          "name": "stdout",
          "text": [
            "Downloading data from https://storage.googleapis.com/tensorflow/tf-keras-datasets/mnist.npz\n",
            "11493376/11490434 [==============================] - 0s 0us/step\n",
            "11501568/11490434 [==============================] - 0s 0us/step\n"
          ]
        }
      ]
    },
    {
      "cell_type": "code",
      "source": [
        "# pass the reshaped output through a non-linear squash function to ensure that the length of each vector is between 0 and 1\n",
        "def squash(output_vector, axis=-1):\n",
        "    # take norm of input vectors\n",
        "    norm = tf.reduce_sum(tf.square(output_vector), axis, keepdims=True) \n",
        "\n",
        "    # use the formula for non-linear function to return squashed output\n",
        "    return output_vector * norm / ((1 + norm) * tf.sqrt(norm + 1.0e-10))"
      ],
      "metadata": {
        "id": "c6QVwXxoXHo7"
      },
      "execution_count": 5,
      "outputs": []
    },
    {
      "cell_type": "code",
      "source": [
        "# input from the digit capsule is masked with the original or actual label. This is done to ensure that the decoder is trained on the correct digit capsule.\n",
        "class MaskingLayer(Layer):\n",
        "    def call(self, inputs, **kwargs):\n",
        "        input, mask = inputs\n",
        "        return K.batch_dot(input, mask, 1)\n",
        "\n",
        "    def compute_output_shape(self, input_shape):\n",
        "        *_, output_shape = input_shape[0]\n",
        "        return (None, output_shape)"
      ],
      "metadata": {
        "id": "Ik59siwlXJ3H"
      },
      "execution_count": 6,
      "outputs": []
    },
    {
      "cell_type": "code",
      "source": [
        "# the primary capsule layer performs the following: conv, reshape, and lambda\n",
        "def PrimaryCapsule(n_vector, n_channel, n_kernel_size, n_stride, padding='valid'):\n",
        "    def builder(inputs):\n",
        "        output = Conv2D(filters=n_vector * n_channel, kernel_size=n_kernel_size, strides=n_stride, padding=padding)(inputs)\n",
        "        output = Reshape( target_shape=[-1, n_vector], name='primary_capsule_reshape')(output) # reshape to the required number of capsules and vector per capsule\n",
        "        return Lambda(squash, name='primary_capsule_squash')(output) # squash the reshaped output to make length of vector b/w 0 and 1\n",
        "    return builder"
      ],
      "metadata": {
        "id": "59UfX6SBXL8Y"
      },
      "execution_count": 7,
      "outputs": []
    },
    {
      "cell_type": "code",
      "source": [
        "class DigitCapsuleLayer(Layer):\n",
        "    def __init__(self, n_capsule, n_vec, n_routing, **kwargs):\n",
        "        super(DigitCapsuleLayer, self).__init__(**kwargs)\n",
        "        self.n_capsule = n_capsule\n",
        "        self.n_vector = n_vec\n",
        "        self.n_routing = n_routing\n",
        "        self.kernel_initializer = initializers.get('he_normal')\n",
        "        self.bias_initializer = initializers.get('zeros')\n",
        "\n",
        "    def build(self, input_shape): # input_shape is a 4D tensor\n",
        "        _, self.input_n_capsule, self.input_n_vector, *_ = input_shape\n",
        "        #self.W = self.add_weight(shape=[self.input_n_capsule, self.n_capsule, self.input_n_vector, self.n_vector], initializer=self.kernel_initializer, name='W')\n",
        "        #self.W = self.add_weight(shape=[self.n_capsule, self.input_n_capsule, self.input_n_vector, self.n_vector], initializer=self.kernel_initializer, name='W')\n",
        "        self.W = self.add_weight(shape=[self.n_capsule, self.input_n_capsule, self.n_vector, self.input_n_vector], initializer=self.kernel_initializer, name='W')\n",
        "        self.bias = self.add_weight(shape=[1, self.input_n_capsule, self.n_capsule, 1, 1], initializer=self.bias_initializer, name='bias', trainable=False)\n",
        "        self.built = True\n",
        "\n",
        "    def call(self, inputs, training=None):\n",
        "        # Expand the input in axis=1, tile in that axis to num_capsule, and \n",
        "        # expands another axis at the end to prepare the multiplication with W.\n",
        "        #  inputs.shape=[None, input_num_capsule, input_dim_capsule]\n",
        "        #  inputs_expand.shape=[None, 1, input_num_capsule, input_dim_capsule]\n",
        "        #  inputs_tiled.shape=[None, num_capsule, input_num_capsule, \n",
        "        #                            input_dim_capsule, 1]\n",
        "        inputs_expand = tf.expand_dims(inputs, 1)\n",
        "        inputs_tiled  = tf.tile(inputs_expand, [1, self.n_capsule, 1, 1])\n",
        "        inputs_tiled  = tf.expand_dims(inputs_tiled, 4)\n",
        "\n",
        "        # Compute `W * inputs` by scanning inputs_tiled on dimension 0 (map_fn).\n",
        "        # - Use matmul (without transposing any element). Note the order!\n",
        "        # Thus:\n",
        "        #  x.shape=[num_capsule, input_num_capsule, input_dim_capsule, 1]\n",
        "        #  W.shape=[num_capsule, input_num_capsule, dim_capsule,input_dim_capsule]\n",
        "        # Regard the first two dimensions as `batch` dimension,\n",
        "        # then matmul: [dim_capsule, input_dim_capsule] x [input_dim_capsule, 1]-> \n",
        "        #              [dim_capsule, 1].\n",
        "        #  inputs_hat.shape=[None, num_capsule, input_num_capsule, dim_capsule, 1]\n",
        "        \n",
        "        inputs_hat = tf.map_fn(lambda x: tf.matmul(self.W, x), elems=inputs_tiled)     \n",
        "\n",
        "        # Begin: Routing algorithm ----------------------------------------------#\n",
        "        # The prior for coupling coefficient, initialized as zeros.\n",
        "        #  b.shape = [None, self.num_capsule, self.input_num_capsule, 1, 1].\n",
        "        b = tf.zeros(shape=[tf.shape(inputs_hat)[0], self.n_capsule, \n",
        "                            self.input_n_capsule, 1, 1])\n",
        "\n",
        "        assert self.n_routing > 0, 'The routings should be > 0.'\n",
        "        for i in range(self.n_routing):\n",
        "            # Apply softmax to the axis with `num_capsule`\n",
        "            #  c.shape=[batch_size, num_capsule, input_num_capsule, 1, 1]\n",
        "            c = layers.Softmax(axis=1)(b)\n",
        "\n",
        "            # Compute the weighted sum of all the predicted output vectors.\n",
        "            #  c.shape =  [batch_size, num_capsule, input_num_capsule, 1, 1]\n",
        "            #  inputs_hat.shape=[None, num_capsule, input_num_capsule,dim_capsule,1]\n",
        "            # The function `multiply` will broadcast axis=3 in c to dim_capsule.\n",
        "            #  outputs.shape=[None, num_capsule, input_num_capsule, dim_capsule, 1]\n",
        "            # Then sum along the input_num_capsule\n",
        "            #  outputs.shape=[None, num_capsule, 1, dim_capsule, 1]\n",
        "            # Then apply squash along the dim_capsule\n",
        "            outputs = tf.multiply(c, inputs_hat)\n",
        "            outputs = tf.reduce_sum(outputs, axis=2, keepdims=True)\n",
        "            outputs = squash(outputs, axis=-2)  # [None, 10, 1, 16, 1]\n",
        "\n",
        "            if i < self.n_routing - 1:\n",
        "                # Update the prior b.\n",
        "                #  outputs.shape =  [None, num_capsule, 1, dim_capsule, 1]\n",
        "                #  inputs_hat.shape=[None,num_capsule,input_num_capsule,dim_capsule,1]\n",
        "                # Multiply the outputs with the weighted_inputs (inputs_hat) and add  \n",
        "                # it to the prior b.  \n",
        "                outputs_tiled = tf.tile(outputs, [1, 1, self.input_n_capsule, 1, 1])\n",
        "                agreement = tf.matmul(inputs_hat, outputs_tiled, transpose_a=True)\n",
        "                b = tf.add(b, agreement)\n",
        "\n",
        "        # End: Routing algorithm ------------------------------------------------#\n",
        "        # Squeeze the outputs to remove useless axis:\n",
        "        #  From  --> outputs.shape=[None, num_capsule, 1, dim_capsule, 1]\n",
        "        #  To    --> outputs.shape=[None, num_capsule,    dim_capsule]\n",
        "        outputs = tf.squeeze(outputs, [2, 4])\n",
        "        return outputs\n",
        "\n",
        "    def compute_output_shape(self, input_shape):\n",
        "        # output current layer capsules\n",
        "        return (None, self.n_capsule, self.n_vector)"
      ],
      "metadata": {
        "id": "xUx78lgxXOX0"
      },
      "execution_count": 8,
      "outputs": []
    },
    {
      "cell_type": "code",
      "source": [
        "class LengthLayer(Layer):\n",
        "    def call(self, inputs, **kwargs):\n",
        "        return tf.sqrt(tf.reduce_sum(tf.square(inputs), axis=-1, keepdims=False))\n",
        "\n",
        "    def compute_output_shape(self, input_shape):\n",
        "        *output_shape, _ = input_shape\n",
        "        return tuple(output_shape)"
      ],
      "metadata": {
        "id": "wk52LHHRXQ52"
      },
      "execution_count": 9,
      "outputs": []
    },
    {
      "cell_type": "code",
      "source": [
        "# probabilistic loss function used for classifying digits image.\n",
        "def margin_loss(y_ground_truth, y_prediction):\n",
        "    _m_plus = 0.9\n",
        "    _m_minus = 0.1\n",
        "    _lambda = 0.5\n",
        "    L = y_ground_truth * tf.square(tf.maximum(0., _m_plus - y_prediction)) + _lambda * ( 1 - y_ground_truth) * tf.square(tf.maximum(0., y_prediction - _m_minus))\n",
        "    return tf.reduce_mean(tf.reduce_sum(L, axis=1))"
      ],
      "metadata": {
        "id": "-b3-SBcGXTXC"
      },
      "execution_count": 10,
      "outputs": []
    },
    {
      "cell_type": "code",
      "source": [
        "# encoder network\n",
        "n_class = 10\n",
        "n_routing = 7\n",
        "\n",
        "x = Input(shape=input_shape) # input for the encoder network\n",
        "conv1 = Conv2D(filters=256, kernel_size=5, strides=1, padding='valid', activation='relu', name='conv1')(x)\n",
        "primary_capsule = PrimaryCapsule(n_vector=8, n_channel=32, n_kernel_size=9, n_stride=2)(conv1)\n",
        "digit_capsule = DigitCapsuleLayer(n_capsule=n_class, n_vec=16, n_routing=n_routing, name='digit_capsule')(primary_capsule)\n",
        "output_capsule = LengthLayer(name='output_capsule')(digit_capsule)"
      ],
      "metadata": {
        "id": "80eu5eEcXVyC"
      },
      "execution_count": 11,
      "outputs": []
    },
    {
      "cell_type": "code",
      "source": [
        "# decoder network to reconstruct the input image\n",
        "mask_input = Input(shape=(n_class, )) # input for the digits capsule layer\n",
        "mask = MaskingLayer()([digit_capsule, mask_input])  # two inputs - the digit capsule and the masked input\n",
        "dec = Dense(512, activation='relu')(mask)\n",
        "dec = Dense(1024, activation='relu')(dec)\n",
        "dec = Dense(tot_n_pixels, activation='sigmoid')(dec) # reconstruct the input image\n",
        "dec = Reshape(input_shape)(dec)"
      ],
      "metadata": {
        "id": "sZ_ulfygXcpe"
      },
      "execution_count": 12,
      "outputs": []
    },
    {
      "cell_type": "code",
      "source": [
        "# compile the model\n",
        "model = Model([x, mask_input], [output_capsule, dec])\n",
        "model.compile(optimizer=optimizers.Adam(lr=0.0001), loss=[ margin_loss, 'mae' ], metrics=[ margin_loss, 'mae', 'accuracy'])"
      ],
      "metadata": {
        "colab": {
          "base_uri": "https://localhost:8080/"
        },
        "id": "33GxoPQJYV7Z",
        "outputId": "b3fbc214-e69e-4303-8fc1-9c27266cfff0"
      },
      "execution_count": 13,
      "outputs": [
        {
          "output_type": "stream",
          "name": "stderr",
          "text": [
            "/usr/local/lib/python3.7/dist-packages/keras/optimizer_v2/adam.py:105: UserWarning: The `lr` argument is deprecated, use `learning_rate` instead.\n",
            "  super(Adam, self).__init__(name, **kwargs)\n"
          ]
        }
      ]
    },
    {
      "cell_type": "code",
      "source": [
        "# train the model\n",
        "BS = 32\n",
        "EPOCHS = 10\n",
        "H = model.fit([X, Y], [Y, X], steps_per_epoch=int(Y.shape[0] / BS), batch_size=BS, epochs=EPOCHS) "
      ],
      "metadata": {
        "colab": {
          "base_uri": "https://localhost:8080/"
        },
        "id": "uzorFPflX3CC",
        "outputId": "3788f914-9e05-4e59-ac5a-bf11f916ba87"
      },
      "execution_count": 14,
      "outputs": [
        {
          "output_type": "stream",
          "name": "stdout",
          "text": [
            "Epoch 1/10\n",
            "1875/1875 [==============================] - 332s 168ms/step - loss: 0.2256 - output_capsule_loss: 0.0918 - reshape_loss: 0.1338 - output_capsule_margin_loss: 0.0918 - output_capsule_mae: 0.1003 - output_capsule_accuracy: 0.9200 - reshape_margin_loss: 1.9545 - reshape_mae: 0.1338 - reshape_accuracy: 0.7995\n",
            "Epoch 2/10\n",
            "1875/1875 [==============================] - 317s 169ms/step - loss: 0.1242 - output_capsule_loss: 0.0259 - reshape_loss: 0.0984 - output_capsule_margin_loss: 0.0259 - output_capsule_mae: 0.0675 - output_capsule_accuracy: 0.9813 - reshape_margin_loss: 1.6880 - reshape_mae: 0.0984 - reshape_accuracy: 0.8009\n",
            "Epoch 3/10\n",
            "1875/1875 [==============================] - 316s 169ms/step - loss: 0.1096 - output_capsule_loss: 0.0180 - reshape_loss: 0.0916 - output_capsule_margin_loss: 0.0180 - output_capsule_mae: 0.0612 - output_capsule_accuracy: 0.9876 - reshape_margin_loss: 1.6148 - reshape_mae: 0.0916 - reshape_accuracy: 0.8032\n",
            "Epoch 4/10\n",
            "1875/1875 [==============================] - 315s 168ms/step - loss: 0.1016 - output_capsule_loss: 0.0143 - reshape_loss: 0.0873 - output_capsule_margin_loss: 0.0143 - output_capsule_mae: 0.0577 - output_capsule_accuracy: 0.9902 - reshape_margin_loss: 1.5596 - reshape_mae: 0.0873 - reshape_accuracy: 0.8046\n",
            "Epoch 5/10\n",
            "1875/1875 [==============================] - 315s 168ms/step - loss: 0.0957 - output_capsule_loss: 0.0118 - reshape_loss: 0.0839 - output_capsule_margin_loss: 0.0118 - output_capsule_mae: 0.0552 - output_capsule_accuracy: 0.9927 - reshape_margin_loss: 1.5131 - reshape_mae: 0.0839 - reshape_accuracy: 0.8056\n",
            "Epoch 6/10\n",
            "1875/1875 [==============================] - 315s 168ms/step - loss: 0.0914 - output_capsule_loss: 0.0102 - reshape_loss: 0.0812 - output_capsule_margin_loss: 0.0102 - output_capsule_mae: 0.0533 - output_capsule_accuracy: 0.9935 - reshape_margin_loss: 1.4686 - reshape_mae: 0.0812 - reshape_accuracy: 0.8062\n",
            "Epoch 7/10\n",
            "1875/1875 [==============================] - 315s 168ms/step - loss: 0.0882 - output_capsule_loss: 0.0090 - reshape_loss: 0.0792 - output_capsule_margin_loss: 0.0090 - output_capsule_mae: 0.0517 - output_capsule_accuracy: 0.9946 - reshape_margin_loss: 1.4370 - reshape_mae: 0.0792 - reshape_accuracy: 0.8067\n",
            "Epoch 8/10\n",
            "1875/1875 [==============================] - 316s 168ms/step - loss: 0.0853 - output_capsule_loss: 0.0078 - reshape_loss: 0.0775 - output_capsule_margin_loss: 0.0078 - output_capsule_mae: 0.0504 - output_capsule_accuracy: 0.9955 - reshape_margin_loss: 1.4124 - reshape_mae: 0.0775 - reshape_accuracy: 0.8073\n",
            "Epoch 9/10\n",
            "1875/1875 [==============================] - 317s 169ms/step - loss: 0.0827 - output_capsule_loss: 0.0068 - reshape_loss: 0.0759 - output_capsule_margin_loss: 0.0068 - output_capsule_mae: 0.0493 - output_capsule_accuracy: 0.9963 - reshape_margin_loss: 1.3869 - reshape_mae: 0.0759 - reshape_accuracy: 0.8077\n",
            "Epoch 10/10\n",
            "1875/1875 [==============================] - 317s 169ms/step - loss: 0.0805 - output_capsule_loss: 0.0060 - reshape_loss: 0.0744 - output_capsule_margin_loss: 0.0060 - output_capsule_mae: 0.0481 - output_capsule_accuracy: 0.9970 - reshape_margin_loss: 1.3632 - reshape_mae: 0.0744 - reshape_accuracy: 0.8080\n"
          ]
        }
      ]
    },
    {
      "cell_type": "code",
      "source": [
        "from sklearn.metrics import classification_report, precision_score, recall_score\n",
        "from sklearn.metrics import accuracy_score\n",
        "from sklearn.metrics import precision_score\n",
        "from sklearn.metrics import recall_score\n",
        "from sklearn.metrics import f1_score\n",
        "from sklearn.metrics import cohen_kappa_score\n",
        "from sklearn.metrics import roc_auc_score\n",
        "from sklearn.metrics import confusion_matrix\n",
        "\n",
        "# evaluate the model\n",
        "label_predicted, image_predicted = model.predict([x_test, y_test])\n",
        "\n",
        "# convert the predicted label to categorical values so that we can calculate the performance metrics\n",
        "pred_categorical = []\n",
        "actual_categorical = []  \n",
        "for i in range(0, len(label_predicted)):\n",
        "  pred_categorical.append(np.argmax(label_predicted[i])) \n",
        "  actual_categorical.append(np.argmax(y_test[i]))\n",
        "\n",
        "# accuracy: (tp + tn) / (p + n)\n",
        "accuracy = accuracy_score(actual_categorical, pred_categorical)\n",
        "print('Accuracy: %f' % accuracy)\n",
        "# precision tp / (tp + fp)\n",
        "precision = precision_score(actual_categorical, pred_categorical, average='micro')\n",
        "print('Precision: %f' % precision)\n",
        "# recall: tp / (tp + fn)\n",
        "recall = recall_score(actual_categorical, pred_categorical, average='micro')\n",
        "print('Recall: %f' % recall)\n",
        "# f1: 2 tp / (2 tp + fp + fn)\n",
        "f1 = f1_score(actual_categorical, pred_categorical, average='micro')\n",
        "print('F1 score: %f' % f1)\n",
        "# kappa\n",
        "kappa = cohen_kappa_score(actual_categorical, pred_categorical)\n",
        "print('Cohens kappa: %f' % kappa)\n",
        "\n",
        "# confusion matrix\n",
        "matrix = confusion_matrix(actual_categorical, pred_categorical)\n",
        "print(matrix)"
      ],
      "metadata": {
        "colab": {
          "base_uri": "https://localhost:8080/"
        },
        "id": "vMV8RtpKZTTJ",
        "outputId": "b616bdb9-8c7f-4250-ac27-d27515419956"
      },
      "execution_count": 15,
      "outputs": [
        {
          "output_type": "stream",
          "name": "stdout",
          "text": [
            "Accuracy: 0.992900\n",
            "Precision: 0.992900\n",
            "Recall: 0.992900\n",
            "F1 score: 0.992900\n",
            "Cohens kappa: 0.992108\n",
            "[[ 980    0    0    0    0    0    0    0    0    0]\n",
            " [   0 1133    0    1    0    0    0    1    0    0]\n",
            " [   1    0 1026    1    0    0    0    3    1    0]\n",
            " [   0    0    1 1007    0    2    0    0    0    0]\n",
            " [   1    0    0    0  974    0    4    0    0    3]\n",
            " [   2    0    0    9    1  878    1    0    1    0]\n",
            " [   8    2    1    0    1    0  945    0    1    0]\n",
            " [   0    2    3    1    0    0    0 1019    1    2]\n",
            " [   1    0    0    1    0    0    0    1  969    2]\n",
            " [   2    1    0    2    5    0    0    0    1  998]]\n"
          ]
        }
      ]
    },
    {
      "cell_type": "code",
      "source": [
        "import seaborn as sn\n",
        "import pandas as pd\n",
        "import matplotlib.pyplot as plt\n",
        "\n",
        "df_cm = pd.DataFrame(matrix, index=[\"0\", \"1\", \"2\", \"3\", \"4\", \"5\", \"6\", \"7\",\"8\", \"9\"], \n",
        "                     columns=[\"0\", \"1\", \"2\", \"3\", \"4\", \"5\", \"6\", \"7\",\"8\", \"9\"]) \n",
        "\n",
        "plt.figure(figsize = (7,7))\n",
        "sn.heatmap(df_cm, fmt='.5g', annot=True)"
      ],
      "metadata": {
        "colab": {
          "base_uri": "https://localhost:8080/",
          "height": 445
        },
        "id": "jTybv4FQZo2p",
        "outputId": "eb2e895f-cf1f-48c6-93f0-57ec7a957edb"
      },
      "execution_count": 21,
      "outputs": [
        {
          "output_type": "execute_result",
          "data": {
            "text/plain": [
              "<matplotlib.axes._subplots.AxesSubplot at 0x7f73dc1fa050>"
            ]
          },
          "metadata": {},
          "execution_count": 21
        },
        {
          "output_type": "display_data",
          "data": {
            "text/plain": [
              "<Figure size 504x504 with 2 Axes>"
            ],
            "image/png": "[encoded data removed]"
          },
          "metadata": {
            "needs_background": "light"
          }
        }
      ]
    },
    {
      "cell_type": "code",
      "source": [
        "print(classification_report(actual_categorical, pred_categorical))"
      ],
      "metadata": {
        "colab": {
          "base_uri": "https://localhost:8080/"
        },
        "id": "q5JGn2L0Zv35",
        "outputId": "fff64f64-7e6c-442a-ea90-88d545db10fe"
      },
      "execution_count": 17,
      "outputs": [
        {
          "output_type": "stream",
          "name": "stdout",
          "text": [
            "              precision    recall  f1-score   support\n",
            "\n",
            "           0       0.98      1.00      0.99       980\n",
            "           1       1.00      1.00      1.00      1135\n",
            "           2       1.00      0.99      0.99      1032\n",
            "           3       0.99      1.00      0.99      1010\n",
            "           4       0.99      0.99      0.99       982\n",
            "           5       1.00      0.98      0.99       892\n",
            "           6       0.99      0.99      0.99       958\n",
            "           7       1.00      0.99      0.99      1028\n",
            "           8       0.99      0.99      0.99       974\n",
            "           9       0.99      0.99      0.99      1009\n",
            "\n",
            "    accuracy                           0.99     10000\n",
            "   macro avg       0.99      0.99      0.99     10000\n",
            "weighted avg       0.99      0.99      0.99     10000\n",
            "\n"
          ]
        }
      ]
    },
    {
      "cell_type": "code",
      "source": [
        "# evaluate the network\n",
        "from sklearn.metrics import classification_report\n",
        "%matplotlib inline \n",
        "import matplotlib.pylab as plt\n",
        "\n",
        "N = np.arange(0, EPOCHS)\n",
        "plt.style.use(\"ggplot\")\n",
        "plt.figure()\n",
        "plt.plot(N, H.history[\"loss\"], label=\"train_loss\")\n",
        "#plt.plot(N, H.history[\"val_loss\"], label=\"val_loss\")\n",
        "plt.plot(N, H.history[\"output_capsule_accuracy\"], label=\"output_capsule_accuracy\")\n",
        "#plt.plot(N, H.history[\"val_output_capsule_accuracy\"], label=\"val_output_capsule_accuracy\")\n",
        "plt.title(\"Training Loss and Accuracy\")\n",
        "plt.xlabel(\"Epoch #\")\n",
        "plt.ylabel(\"Loss/Accuracy\")\n",
        "plt.legend()"
      ],
      "metadata": {
        "colab": {
          "base_uri": "https://localhost:8080/",
          "height": 316
        },
        "id": "9m4Oyzz1ZyGf",
        "outputId": "1ebb969c-55be-44ec-ad9f-951b7f91a3f6"
      },
      "execution_count": 22,
      "outputs": [
        {
          "output_type": "execute_result",
          "data": {
            "text/plain": [
              "<matplotlib.legend.Legend at 0x7f73dc1688d0>"
            ]
          },
          "metadata": {},
          "execution_count": 22
        },
        {
          "output_type": "display_data",
          "data": {
            "text/plain": [
              "<Figure size 432x288 with 1 Axes>"
            ],
            "image/png": "[encoded data removed]"
          },
          "metadata": {}
        }
      ]
    },
    {
      "cell_type": "code",
      "source": [
        "# visualize the predicted images\n",
        "\n",
        "n_samples = 5\n",
        "plt.figure(figsize=(n_samples * 2, 3))\n",
        "for index in range(n_samples):\n",
        "    plt.subplot(1, n_samples, index + 1)\n",
        "    sample_image = x_test[index].reshape(28, 28)\n",
        "    plt.imshow(sample_image, cmap=\"binary\")\n",
        "    #plt.title(\"Label:\" + str(y_test[index]))\n",
        "    plt.title(\"Actual:\" + str(np.argmax(y_test[index])))\n",
        "    plt.axis(\"off\")\n",
        "\n",
        "plt.show()\n",
        "\n",
        "plt.figure(figsize=(n_samples * 2, 3))\n",
        "for index in range(n_samples):\n",
        "    plt.subplot(1, n_samples, index + 1)\n",
        "    sample_image = image_predicted[index].reshape(28, 28)\n",
        "    plt.imshow(sample_image, cmap=\"binary\")\n",
        "    plt.title(\"Predicted:\" + str(np.argmax(label_predicted[index])))\n",
        "    plt.axis(\"off\")\n",
        "\n",
        "plt.show()"
      ],
      "metadata": {
        "colab": {
          "base_uri": "https://localhost:8080/",
          "height": 271
        },
        "id": "NegnZ0yjZys5",
        "outputId": "69d955e1-0311-4dfd-817e-8b150c06422e"
      },
      "execution_count": 26,
      "outputs": [
        {
          "output_type": "display_data",
          "data": {
            "text/plain": [
              "<Figure size 720x216 with 5 Axes>"
            ],
            "image/png": "[encoded data removed]"
          },
          "metadata": {}
        },
        {
          "output_type": "display_data",
          "data": {
            "text/plain": [
              "<Figure size 720x216 with 5 Axes>"
            ],
            "image/png": "[encoded data removed]"
          },
          "metadata": {}
        }
      ]
    }
  ]
}