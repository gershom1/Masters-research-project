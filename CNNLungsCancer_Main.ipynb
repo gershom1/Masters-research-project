{
  "nbformat": 4,
  "nbformat_minor": 0,
  "metadata": {
    "colab": {
      "name": "CNNLungsCancer_Main.ipynb",
      "provenance": []
    },
    "kernelspec": {
      "name": "python3",
      "display_name": "Python 3"
    },
    "language_info": {
      "name": "python"
    }
  },
  "cells": [
    {
      "cell_type": "code",
      "source": [
        "from numpy.random import seed\n",
        "seed(1)\n",
        "import tensorflow\n",
        "tensorflow.random.set_seed(2)"
      ],
      "metadata": {
        "id": "Uc5uXlq6OiYV"
      },
      "execution_count": 1,
      "outputs": []
    },
    {
      "cell_type": "code",
      "execution_count": 2,
      "metadata": {
        "id": "oEU3hYbYNlAK"
      },
      "outputs": [],
      "source": [
        "import tensorflow.keras\n",
        "from tensorflow.keras import layers\n",
        "from tensorflow.keras import Model \n",
        "from tensorflow.keras.models import Sequential\n",
        "from tensorflow.keras.preprocessing import image\n",
        "from tensorflow.keras.callbacks import ModelCheckpoint, EarlyStopping\n",
        "from tensorflow.keras.preprocessing.image import ImageDataGenerator\n",
        "from tensorflow.keras.applications.vgg16 import VGG16, preprocess_input\n",
        "from tensorflow.keras.models import load_model, Model\n",
        "from tensorflow.keras.layers import Dense, InputLayer, Input, Conv2D, Flatten, MaxPool2D, Dropout\n",
        "from tensorflow.keras.utils import to_categorical\n",
        "import cv2\n",
        "import numpy as np\n",
        "from tqdm import tqdm\n",
        "import os\n",
        "from tensorflow.keras.preprocessing.image import img_to_array\n",
        "from sklearn.model_selection import train_test_split\n",
        "import pandas as pd"
      ]
    },
    {
      "cell_type": "code",
      "source": [
        "def load_labels(inputPath):\n",
        "    # initialize the list of column names in the CSV file and then load it using Pandas\n",
        "    col_list = [\"image_id\", \"class\"]\n",
        "    df = pd.read_csv(inputPath, usecols=col_list)\n",
        "    return df\n",
        "\n",
        "# this function is for the sort function in load_gaze_images() function below\n",
        "def getint(name):\n",
        "    basename, _ = name.split('.')\n",
        "    return int(basename)\n",
        "\n",
        "def read_image(fname, IMAGE_DIMS):\n",
        "    # read each image in colored\n",
        "    img = cv2.imread(fname) \n",
        "    \n",
        "    # resize each image\n",
        "    f_h, f_w = int(IMAGE_DIMS[0]), int(IMAGE_DIMS[1]) # height and width\n",
        "    img = cv2.resize(img, (f_h, f_w))\n",
        "    \n",
        "    # convert image to RGB for ease of training\n",
        "    img = cv2.cvtColor(img, cv2.COLOR_BGR2RGB)\n",
        "    img = img_to_array(img)\n",
        "\n",
        "    return img\n",
        "\n",
        "# process and dataset\n",
        "def load_imageAndLabel(dir, IMAGE_DIMS, dataset_name, label_file):\n",
        "    batch_data = []\n",
        "    classes = []\n",
        "    \n",
        "    # get the path for the labels. \n",
        "    label_path = os.path.join(dir, label_file)\n",
        "    df_label = load_labels(label_path)\n",
        "    \n",
        "    # get the path for all the files in the current sub directory\n",
        "    img_path = os.path.join(dir, dataset_name) \n",
        "    #print(img_path)\n",
        "    \n",
        "    # get the file names for all the files\n",
        "    files = os.listdir(img_path)\n",
        "    #print(files)\n",
        "\n",
        "    n_img = len(files)  # get the total number of images\n",
        "    for i in tqdm(range(n_img)): \n",
        "        # get the file path \n",
        "        fname = os.path.join(img_path, files[i])\n",
        "        #print(fname)\n",
        "        idx = df_label[df_label[\"image_id\"] == files[i]].index.values # get the index of the current image\n",
        "        clas = df_label[\"class\"].values[idx]\n",
        "        classes.append(clas)\n",
        "        img = read_image(fname, IMAGE_DIMS)\n",
        "        batch_data.append(img) # create batch data\n",
        "    one = classes.count(0)\n",
        "    two = classes.count(1)\n",
        "    three = classes.count(2)\n",
        "    norm = classes.count(3)\n",
        "    return np.array(batch_data), np.array(classes)"
      ],
      "metadata": {
        "id": "IH1vjfpSPSXe"
      },
      "execution_count": 3,
      "outputs": []
    },
    {
      "cell_type": "code",
      "source": [
        "# mount the google drive\n",
        "from google.colab import drive\n",
        "drive.mount('/content/drive/')"
      ],
      "metadata": {
        "colab": {
          "base_uri": "https://localhost:8080/"
        },
        "id": "4vSu4_6pPWUI",
        "outputId": "2f4dd50a-73c5-4150-8176-b5d58479f60f"
      },
      "execution_count": 4,
      "outputs": [
        {
          "output_type": "stream",
          "name": "stdout",
          "text": [
            "Mounted at /content/drive/\n"
          ]
        }
      ]
    },
    {
      "cell_type": "code",
      "source": [
        "input_shape = [80, 80, 3]\n",
        "dimA, dimB, n_channel = input_shape\n",
        "tot_n_pixels = dimA * dimB * n_channel\n",
        "train_dir = '/content/drive/My Drive/GershomProject'\n",
        "dataset_name = \"LungsCancerDataset\" \n",
        "label_file = \"label.csv\"\n",
        "\n",
        "print(\"[INFO] loading training and test data...\")\n",
        "images, labels = load_imageAndLabel(train_dir, input_shape, dataset_name, label_file)"
      ],
      "metadata": {
        "colab": {
          "base_uri": "https://localhost:8080/"
        },
        "id": "8wrWGyKQPdoS",
        "outputId": "d9ea1ea2-f4a4-4835-d605-bde509d610fb"
      },
      "execution_count": 5,
      "outputs": [
        {
          "output_type": "stream",
          "name": "stdout",
          "text": [
            "[INFO] loading training and test data...\n"
          ]
        },
        {
          "output_type": "stream",
          "name": "stderr",
          "text": [
            "100%|██████████| 1000/1000 [00:39<00:00, 25.11it/s]\n"
          ]
        }
      ]
    },
    {
      "cell_type": "code",
      "source": [
        "# partition the data into training and testing splits using 80% of\n",
        "# the data for training and the remaining 20% for testing\n",
        "split = train_test_split(images, labels, test_size=0.2, random_state=42)\n",
        "(x_train, x_test, y_train, y_test) = split\n",
        "\n",
        "# Scale or normalize the dataset\n",
        "print(\"[INFO] scaling the dataset to range [0,1]...\")\n",
        "x_train = x_train.reshape(-1, dimA, dimB, n_channel).astype('float32') / 255.0 # reshape and normalize the training set\n",
        "x_test = x_test.reshape(-1, dimA, dimB, n_channel).astype('float32') / 255.0 # reshape and normalize the test set\n",
        "\n",
        "# one hot encode target values\n",
        "y_train = to_categorical(y_train.astype('float32'))\n",
        "y_test = to_categorical(y_test.astype('float32'))"
      ],
      "metadata": {
        "colab": {
          "base_uri": "https://localhost:8080/"
        },
        "id": "N56nJ6_PPimv",
        "outputId": "3d12878d-17aa-4cab-c41a-665a3b8d5b72"
      },
      "execution_count": 6,
      "outputs": [
        {
          "output_type": "stream",
          "name": "stdout",
          "text": [
            "[INFO] scaling the dataset to range [0,1]...\n"
          ]
        }
      ]
    },
    {
      "cell_type": "code",
      "source": [
        "from tensorflow.keras import optimizers\n",
        "\n",
        "model = Sequential() \n",
        "\n",
        "# Convolutional Layer with input shape (224,224,3)\n",
        "model.add(InputLayer(input_shape=input_shape))\n",
        "\n",
        "model.add(Conv2D(filters=25, kernel_size= (5,5), activation= 'relu') )\n",
        "model.add(MaxPool2D(pool_size=(2,2)))\n",
        "\n",
        "model.add(Conv2D(filters=25, kernel_size=(5,5), activation='relu' ))\n",
        "model.add(MaxPool2D(pool_size=(2,2)))\n",
        "\n",
        "model.add(Conv2D(filters=25, kernel_size=(4,4), activation='relu' ))\n",
        "model.add(Dropout(rate=0.25))\n",
        "\n",
        "model.add(Flatten())\n",
        "model.add(Dense(units=50, activation='relu'))\n",
        "model.add(Dropout(rate=0.25))\n",
        "\n",
        "model.add(Dense(units=4, activation='sigmoid'))\n",
        "\n",
        "model.compile(optimizer=optimizers.Adam(lr=0.0001), loss='categorical_crossentropy', metrics=['accuracy'])\n",
        " \n",
        "#model.summary()"
      ],
      "metadata": {
        "colab": {
          "base_uri": "https://localhost:8080/"
        },
        "id": "xPXAX5fGPp2Z",
        "outputId": "1475ef48-b89d-46f5-f459-ac004d8ea26e"
      },
      "execution_count": 7,
      "outputs": [
        {
          "output_type": "stream",
          "name": "stderr",
          "text": [
            "/usr/local/lib/python3.7/dist-packages/keras/optimizer_v2/adam.py:105: UserWarning: The `lr` argument is deprecated, use `learning_rate` instead.\n",
            "  super(Adam, self).__init__(name, **kwargs)\n"
          ]
        }
      ]
    },
    {
      "cell_type": "code",
      "source": [
        "from keras.preprocessing.image import ImageDataGenerator\n",
        "\n",
        "# Training with data augmentation\n",
        "def train_generator(x, y, batch_size, shift_fraction=0.1):\n",
        " train_datagen = ImageDataGenerator(width_shift_range=shift_fraction,\n",
        " height_shift_range=shift_fraction) # shift up to 2 pixel for the dataset\n",
        " generator = train_datagen.flow(x, y, batch_size=batch_size)\n",
        " while 1:\n",
        "   x_batch, y_batch = generator.next()\n",
        "   yield ([x_batch, y_batch])"
      ],
      "metadata": {
        "id": "cj7-s_DRPy3-"
      },
      "execution_count": 8,
      "outputs": []
    },
    {
      "cell_type": "code",
      "source": [
        "# train the neural network\n",
        "EPOCHS = 10\n",
        "BS = 32\n",
        "H = model.fit(train_generator(x_train, y_train, BS, 0.1), steps_per_epoch=int(y_train.shape[0] / BS), batch_size=BS, epochs=EPOCHS) "
      ],
      "metadata": {
        "colab": {
          "base_uri": "https://localhost:8080/"
        },
        "id": "2XbI2Gv6P45P",
        "outputId": "f91f5e2c-969b-4a33-ce5e-cc9ffaefefa9"
      },
      "execution_count": 9,
      "outputs": [
        {
          "output_type": "stream",
          "name": "stdout",
          "text": [
            "Epoch 1/10\n",
            "25/25 [==============================] - 12s 428ms/step - loss: 1.3635 - accuracy: 0.2887\n",
            "Epoch 2/10\n",
            "25/25 [==============================] - 11s 429ms/step - loss: 1.3130 - accuracy: 0.3638\n",
            "Epoch 3/10\n",
            "25/25 [==============================] - 11s 433ms/step - loss: 1.2860 - accuracy: 0.4288\n",
            "Epoch 4/10\n",
            "25/25 [==============================] - 11s 432ms/step - loss: 1.2389 - accuracy: 0.4162\n",
            "Epoch 5/10\n",
            "25/25 [==============================] - 11s 431ms/step - loss: 1.2171 - accuracy: 0.4212\n",
            "Epoch 6/10\n",
            "25/25 [==============================] - 11s 426ms/step - loss: 1.2088 - accuracy: 0.4363\n",
            "Epoch 7/10\n",
            "25/25 [==============================] - 11s 424ms/step - loss: 1.1892 - accuracy: 0.4300\n",
            "Epoch 8/10\n",
            "25/25 [==============================] - 11s 444ms/step - loss: 1.1703 - accuracy: 0.4475\n",
            "Epoch 9/10\n",
            "25/25 [==============================] - 11s 423ms/step - loss: 1.1449 - accuracy: 0.4625\n",
            "Epoch 10/10\n",
            "25/25 [==============================] - 11s 423ms/step - loss: 1.1316 - accuracy: 0.4913\n"
          ]
        }
      ]
    },
    {
      "cell_type": "code",
      "source": [
        "from sklearn.metrics import classification_report, precision_score, recall_score\n",
        "from sklearn.metrics import accuracy_score\n",
        "from sklearn.metrics import precision_score\n",
        "from sklearn.metrics import recall_score\n",
        "from sklearn.metrics import f1_score\n",
        "from sklearn.metrics import cohen_kappa_score\n",
        "from sklearn.metrics import roc_auc_score\n",
        "from sklearn.metrics import confusion_matrix\n",
        "\n",
        "print(\"[INFO] evaluating network...\")\n",
        "predictions = model.predict(x=x_test, batch_size=32)\n",
        "\n",
        "# convert the predicted label to categorical values so that we can calculate the performance metrics\n",
        "pred_categorical = []\n",
        "actual_categorical = []  \n",
        "for i in range(0, len(predictions)):\n",
        "  pred_categorical.append(np.argmax(predictions[i])) \n",
        "  actual_categorical.append(np.argmax(y_test[i]))\n",
        "\n",
        "# accuracy: (tp + tn) / (p + n)\n",
        "accuracy = accuracy_score(actual_categorical, pred_categorical)\n",
        "print('Accuracy: %f' % accuracy)\n",
        "# precision tp / (tp + fp)\n",
        "precision = precision_score(actual_categorical, pred_categorical, average='micro')\n",
        "print('Precision: %f' % precision)\n",
        "# recall: tp / (tp + fn)\n",
        "recall = recall_score(actual_categorical, pred_categorical, average='micro')\n",
        "print('Recall: %f' % recall)\n",
        "# f1: 2 tp / (2 tp + fp + fn)\n",
        "f1 = f1_score(actual_categorical, pred_categorical, average='micro')\n",
        "print('F1 score: %f' % f1)\n",
        "# kappa\n",
        "kappa = cohen_kappa_score(actual_categorical, pred_categorical)\n",
        "print('Cohens kappa: %f' % kappa)\n",
        "\n",
        "# confusion matrix\n",
        "matrix = confusion_matrix(actual_categorical, pred_categorical)\n",
        "print(matrix)"
      ],
      "metadata": {
        "colab": {
          "base_uri": "https://localhost:8080/"
        },
        "id": "Ydc1Z_9dQIUP",
        "outputId": "8d59d98b-d7c1-49c8-acb3-93d416070a81"
      },
      "execution_count": 10,
      "outputs": [
        {
          "output_type": "stream",
          "name": "stdout",
          "text": [
            "[INFO] evaluating network...\n",
            "Accuracy: 0.480000\n",
            "Precision: 0.480000\n",
            "Recall: 0.480000\n",
            "F1 score: 0.480000\n",
            "Cohens kappa: 0.268996\n",
            "[[33  9  0  0]\n",
            " [ 5 58  0  1]\n",
            " [ 7 33  1  3]\n",
            " [ 6 40  0  4]]\n"
          ]
        }
      ]
    },
    {
      "cell_type": "code",
      "source": [
        "import seaborn as sn\n",
        "import pandas as pd\n",
        "import matplotlib.pyplot as plt\n",
        "\n",
        "df_cm = pd.DataFrame(matrix, index=[\"normal\", \"adenocarcinoma\", \"large_cell_carcinoma\", \"squamous_cell_carcinoma\"], \n",
        "                     columns=[\"normal\", \"adenocarcinoma\", \"large_cell_carcinoma\", \"squamous_cell_carcinoma\"]) \n",
        "\n",
        "plt.figure(figsize = (5,5))\n",
        "sn.heatmap(df_cm, annot=True)"
      ],
      "metadata": {
        "colab": {
          "base_uri": "https://localhost:8080/",
          "height": 457
        },
        "id": "4wq7SEcZQX48",
        "outputId": "d65e8c70-8a4c-426f-9545-d0beeaa137bb"
      },
      "execution_count": 11,
      "outputs": [
        {
          "output_type": "execute_result",
          "data": {
            "text/plain": [
              "<matplotlib.axes._subplots.AxesSubplot at 0x7f065c256110>"
            ]
          },
          "metadata": {},
          "execution_count": 11
        },
        {
          "output_type": "display_data",
          "data": {
            "text/plain": [
              "<Figure size 360x360 with 2 Axes>"
            ],
            "image/png": "[encoded data removed]"
          },
          "metadata": {
            "needs_background": "light"
          }
        }
      ]
    },
    {
      "cell_type": "code",
      "source": [
        "# print result summary\n",
        "print(classification_report(actual_categorical, pred_categorical))"
      ],
      "metadata": {
        "colab": {
          "base_uri": "https://localhost:8080/"
        },
        "id": "93c-Fn8bhqSH",
        "outputId": "fa489927-dcb5-4faa-8a25-25dc58166117"
      },
      "execution_count": 12,
      "outputs": [
        {
          "output_type": "stream",
          "name": "stdout",
          "text": [
            "              precision    recall  f1-score   support\n",
            "\n",
            "           0       0.65      0.79      0.71        42\n",
            "           1       0.41      0.91      0.57        64\n",
            "           2       1.00      0.02      0.04        44\n",
            "           3       0.50      0.08      0.14        50\n",
            "\n",
            "    accuracy                           0.48       200\n",
            "   macro avg       0.64      0.45      0.37       200\n",
            "weighted avg       0.61      0.48      0.38       200\n",
            "\n"
          ]
        }
      ]
    },
    {
      "cell_type": "code",
      "source": [
        "# Display the result\n",
        "from sklearn.metrics import classification_report\n",
        "%matplotlib inline \n",
        "import matplotlib.pylab as plt\n",
        "\n",
        "N = np.arange(0, EPOCHS)\n",
        "plt.style.use(\"ggplot\")\n",
        "plt.figure()\n",
        "plt.plot(N, H.history[\"loss\"], label=\"train_loss\")\n",
        "plt.plot(N, H.history[\"accuracy\"], label=\"train_acc\")\n",
        "plt.title(\"Training Loss and Accuracy\")\n",
        "plt.xlabel(\"Epoch #\")\n",
        "plt.ylabel(\"Loss/Accuracy\")\n",
        "plt.legend()"
      ],
      "metadata": {
        "colab": {
          "base_uri": "https://localhost:8080/",
          "height": 316
        },
        "id": "s2q6DshTh3Ls",
        "outputId": "70d4e5d9-41b4-405c-ff2d-81a6d2232b6e"
      },
      "execution_count": 13,
      "outputs": [
        {
          "output_type": "execute_result",
          "data": {
            "text/plain": [
              "<matplotlib.legend.Legend at 0x7f065c90bcd0>"
            ]
          },
          "metadata": {},
          "execution_count": 13
        },
        {
          "output_type": "display_data",
          "data": {
            "text/plain": [
              "<Figure size 432x288 with 1 Axes>"
            ],
            "image/png": "[encoded data removed]"
          },
          "metadata": {}
        }
      ]
    }
  ]
}